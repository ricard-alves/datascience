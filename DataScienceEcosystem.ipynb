{
  "metadata": {
    "kernelspec": {
      "name": "python",
      "display_name": "Python (Pyodide)",
      "language": "python"
    },
    "language_info": {
      "codemirror_mode": {
        "name": "python",
        "version": 3
      },
      "file_extension": ".py",
      "mimetype": "text/x-python",
      "name": "python",
      "nbconvert_exporter": "python",
      "pygments_lexer": "ipython3",
      "version": "3.8"
    }
  },
  "nbformat_minor": 5,
  "nbformat": 4,
  "cells": [
    {
      "id": "cf1c6da2-81a4-44f3-bd27-76e1b999439e",
      "cell_type": "markdown",
      "source": "# Data Science Tools and Ecosystem",
      "metadata": {}
    },
    {
      "id": "394d98c9-7374-4403-8fe9-33ead0d07034",
      "cell_type": "markdown",
      "source": "In this notebook, Data Science Tools and Ecosystem are summarized.",
      "metadata": {}
    },
    {
      "id": "8d44604b-8a92-41b9-9906-ba6590fe4803",
      "cell_type": "markdown",
      "source": "**Objectives:**\n\n- Popular languages for Data Science\n- Common libraries used in Data Science\n- Highlight open-source tools for Data Science\n- Basic arithmetic operations",
      "metadata": {}
    },
    {
      "id": "fb66ada2-e744-4aa9-83eb-3ed2e5a54476",
      "cell_type": "markdown",
      "source": "Some of the popular languages that Data Scientists use are: Python, R, SQL",
      "metadata": {}
    },
    {
      "id": "fc06401e-bbfe-489e-aa10-8fd7f099e500",
      "cell_type": "markdown",
      "source": "Some of the commonly used libraries used by Data Scientists include: Pandas, Plotly, Scikit-learn",
      "metadata": {}
    },
    {
      "id": "e33818e6-2e0e-427e-9361-b8c8da8e79a1",
      "cell_type": "markdown",
      "source": "| Data Science Tools         |\n|----------------------------|\n| Jupyter Notebook           |\n| RStudio                    |\n| Apache Zeppelin            |\n",
      "metadata": {}
    },
    {
      "id": "232ab82c-9619-4d09-bcea-a5dd1d271b4d",
      "cell_type": "markdown",
      "source": "### Below are a few examples of evaluating arithmetic expressions in Python",
      "metadata": {}
    },
    {
      "id": "ccfed2c9-23a2-48d8-b59d-fc6c422bc2e2",
      "cell_type": "code",
      "source": "#This a simple arithmetic expression to mutiply then add integers\n(3*4)+5",
      "metadata": {
        "trusted": true
      },
      "outputs": [
        {
          "execution_count": 3,
          "output_type": "execute_result",
          "data": {
            "text/plain": "17"
          },
          "metadata": {}
        }
      ],
      "execution_count": 3
    },
    {
      "id": "a8db7a8a-37a5-4e09-8cac-300515e69a78",
      "cell_type": "code",
      "source": "#This will convert 200 minutes to hours by diving by 60\n200/60",
      "metadata": {
        "trusted": true
      },
      "outputs": [
        {
          "execution_count": 4,
          "output_type": "execute_result",
          "data": {
            "text/plain": "3.3333333333333335"
          },
          "metadata": {}
        }
      ],
      "execution_count": 4
    },
    {
      "id": "116a99cd-c0bc-4091-9c9e-8ddc52088d59",
      "cell_type": "markdown",
      "source": "## Author\nRicardo Alves de Souza",
      "metadata": {}
    },
    {
      "id": "04c76c08-5401-45e7-84b3-57eb358ee5f6",
      "cell_type": "code",
      "source": "",
      "metadata": {
        "trusted": true
      },
      "outputs": [],
      "execution_count": null
    }
  ]
}